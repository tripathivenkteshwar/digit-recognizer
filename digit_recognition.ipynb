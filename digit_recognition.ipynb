{
  "nbformat": 4,
  "nbformat_minor": 0,
  "metadata": {
    "colab": {
      "name": "digit_recognition.ipynb",
      "provenance": [],
      "toc_visible": true,
      "authorship_tag": "ABX9TyM1RTu4xwlxvxjp/A5k8P96",
      "include_colab_link": true
    },
    "kernelspec": {
      "name": "python3",
      "display_name": "Python 3"
    },
    "accelerator": "GPU"
  },
  "cells": [
    {
      "cell_type": "markdown",
      "metadata": {
        "id": "view-in-github",
        "colab_type": "text"
      },
      "source": [
        "<a href=\"https://colab.research.google.com/github/tripathivenkteshwar/digit-recognizer/blob/master/digit_recognition.ipynb\" target=\"_parent\"><img src=\"https://colab.research.google.com/assets/colab-badge.svg\" alt=\"Open In Colab\"/></a>"
      ]
    },
    {
      "cell_type": "markdown",
      "metadata": {
        "id": "Yth-SH1ckWHi",
        "colab_type": "text"
      },
      "source": [
        "# **Digit recognition**\n"
      ]
    },
    {
      "cell_type": "code",
      "metadata": {
        "id": "Uho86bYHkmkX",
        "colab_type": "code",
        "colab": {
          "base_uri": "https://localhost:8080/",
          "height": 53
        },
        "outputId": "86cec57f-ab46-4e80-9640-6e8ab36484bb"
      },
      "source": [
        "%tensorflow_version 1.x\n",
        "import tensorflow as tf\n",
        "from tensorflow.contrib.layers.python.layers.layers import batch_norm\n",
        "from tensorflow.keras.datasets import mnist\n",
        "import numpy as np\n",
        "from keras.utils import to_categorical\n",
        "import matplotlib.pyplot as plt\n",
        "import math\n",
        "from tensorflow.python.framework import ops\n",
        "ops.reset_default_graph()"
      ],
      "execution_count": 1,
      "outputs": [
        {
          "output_type": "stream",
          "text": [
            "TensorFlow 1.x selected.\n"
          ],
          "name": "stdout"
        },
        {
          "output_type": "stream",
          "text": [
            "Using TensorFlow backend.\n"
          ],
          "name": "stderr"
        }
      ]
    },
    {
      "cell_type": "markdown",
      "metadata": {
        "id": "xW5nkbfWlLLQ",
        "colab_type": "text"
      },
      "source": [
        "### **Processing data**\n",
        "\n",
        "**Data split into training/test data*\n",
        "\n",
        "**image dimension \"NHW\" (N: sample size; H: height; W: width)*\n",
        "\n",
        "**Reshape image dimension \"NHWC\" (N: sample size; H: height; W: width; C: channel)*\n",
        "\n",
        "**Normalize both tain/test (data/255)*\n",
        "\n",
        "**one hot encoding of train output/test output*"
      ]
    },
    {
      "cell_type": "code",
      "metadata": {
        "id": "woQjiqz5lJ1w",
        "colab_type": "code",
        "colab": {
          "base_uri": "https://localhost:8080/",
          "height": 90
        },
        "outputId": "27124d65-9d56-4875-ebe5-039f79b3608b"
      },
      "source": [
        "(x_train, y_train), (x_test, y_test) = mnist.load_data()\n",
        "x_train = x_train/255\n",
        "x_test = x_test/255\n",
        "print(x_train.shape, y_train.shape, x_test.shape, y_test.shape)\n",
        "x_train = x_train.reshape(x_train.shape[0], 28,28,1)\n",
        "x_train=x_train.astype(np.float32)\n",
        "x_test = x_test.reshape(x_test.shape[0], 28,28,1) \n",
        "x_test=x_test.astype(np.float32)\n",
        "y_train = to_categorical(y_train, num_classes = 10)\n",
        "y_test = to_categorical(y_test)\n",
        "print(\"y train\", y_train.shape, \"y test\", y_test.shape)"
      ],
      "execution_count": 2,
      "outputs": [
        {
          "output_type": "stream",
          "text": [
            "Downloading data from https://storage.googleapis.com/tensorflow/tf-keras-datasets/mnist.npz\n",
            "11493376/11490434 [==============================] - 0s 0us/step\n",
            "(60000, 28, 28) (60000,) (10000, 28, 28) (10000,)\n",
            "y train (60000, 10) y test (10000, 10)\n"
          ],
          "name": "stdout"
        }
      ]
    },
    {
      "cell_type": "markdown",
      "metadata": {
        "id": "GBp4MrcAov4L",
        "colab_type": "text"
      },
      "source": [
        "****Weight/bias initialization using xavier***"
      ]
    },
    {
      "cell_type": "code",
      "metadata": {
        "id": "q07scuPzouD-",
        "colab_type": "code",
        "colab": {
          "base_uri": "https://localhost:8080/",
          "height": 162
        },
        "outputId": "eac11a70-3041-4e0e-da8c-bd35d66b7f15"
      },
      "source": [
        "# Number of class\n",
        "n_classes=10\n",
        "\n",
        "weights = {\n",
        "    # Convolution Layers\n",
        "    'c1': tf.get_variable('W1', shape=(3,3,1,16), \\\n",
        "            initializer=tf.contrib.layers.xavier_initializer()), \n",
        "    'c2': tf.get_variable('W2', shape=(3,3,16,16), \\\n",
        "            initializer=tf.contrib.layers.xavier_initializer()),\n",
        "    'c3': tf.get_variable('W3', shape=(3,3,16,32), \\\n",
        "            initializer=tf.contrib.layers.xavier_initializer()),\n",
        "    'c4': tf.get_variable('W4', shape=(3,3,32,32), \\\n",
        "            initializer=tf.contrib.layers.xavier_initializer()),\n",
        "    \n",
        "    # Dense Layers\n",
        "    'd1': tf.get_variable('W5', shape=(7*7*32,128), \n",
        "            initializer=tf.contrib.layers.xavier_initializer()),\n",
        "    'out': tf.get_variable('W6', shape=(128,n_classes), \n",
        "            initializer=tf.contrib.layers.xavier_initializer()),\n",
        "}\n",
        "biases = {\n",
        "    # Convolution Layers\n",
        "    'c1': tf.get_variable('B1', shape=(16), initializer=tf.zeros_initializer()),\n",
        "    'c2': tf.get_variable('B2', shape=(16), initializer=tf.zeros_initializer()),\n",
        "    'c3': tf.get_variable('B3', shape=(32), initializer=tf.zeros_initializer()),\n",
        "    'c4': tf.get_variable('B4', shape=(32), initializer=tf.zeros_initializer()),\n",
        "    \n",
        "    # Dense Layers\n",
        "    'd1': tf.get_variable('B5', shape=(128), initializer=tf.zeros_initializer()),\n",
        "    'out': tf.get_variable('B6', shape=(n_classes), initializer=tf.zeros_initializer()),\n",
        "}\n",
        "\n"
      ],
      "execution_count": 3,
      "outputs": [
        {
          "output_type": "stream",
          "text": [
            "WARNING:tensorflow:\n",
            "The TensorFlow contrib module will not be included in TensorFlow 2.0.\n",
            "For more information, please see:\n",
            "  * https://github.com/tensorflow/community/blob/master/rfcs/20180907-contrib-sunset.md\n",
            "  * https://github.com/tensorflow/addons\n",
            "  * https://github.com/tensorflow/io (for I/O related ops)\n",
            "If you depend on functionality not listed there, please file an issue.\n",
            "\n"
          ],
          "name": "stdout"
        }
      ]
    },
    {
      "cell_type": "markdown",
      "metadata": {
        "id": "GgdBMJOspRR5",
        "colab_type": "text"
      },
      "source": [
        "****Batch Noramlization***\n",
        "\n",
        "\n",
        "![alt text](https://miro.medium.com/max/506/1*Hiq-rLFGDpESpr8QNsJ1jg.png)\n",
        "\n",
        "\n",
        "[From the original batch-norm paper](https://arxiv.org/pdf/1502.03167v3.pdf)"
      ]
    },
    {
      "cell_type": "code",
      "metadata": {
        "id": "8-wI8yJ-pQa2",
        "colab_type": "code",
        "colab": {}
      },
      "source": [
        "def batch_noramlization(x, train_phase, scope_bn):\n",
        "    if train_phase:\n",
        "      bn_train = batch_norm(x, decay=0.999, epsilon=1e-3, center=True, scale=True,\n",
        "              updates_collections=None,\n",
        "              is_training=True,\n",
        "              reuse=None, # is this right?\n",
        "              trainable=True,\n",
        "              scope=scope_bn)\n",
        "      return bn_train\n",
        "    else:\n",
        "      bn_inference = batch_norm(x, decay=0.999, epsilon=1e-3, center=True, scale=True,\n",
        "              updates_collections=None,\n",
        "              is_training=False,\n",
        "              reuse=True, # is this right?\n",
        "              trainable=True,\n",
        "              scope=scope_bn)\n",
        "      #z = tf.cond(train_phase, lambda: bn_train, lambda: bn_inference)\n",
        "      return bn_inference\n"
      ],
      "execution_count": 4,
      "outputs": []
    },
    {
      "cell_type": "markdown",
      "metadata": {
        "id": "Wr6EQb0vqf3l",
        "colab_type": "text"
      },
      "source": [
        "****ConvNet/CNN***\n",
        "\n",
        "**CNNs in this kernel follow LeNet-5 Architecture with some improvements:*\n",
        "\n",
        "**Two stacked 3x3 filters replace the single 5x5 filters.*\n",
        "\n",
        "**Max pooling layers inplaces of Average pooling layers.*\n",
        "\n",
        "**ReLU activation replaces sigmoid.*\n",
        "\n",
        "**Batch normalization is added*\n",
        "\n",
        "**Dropout is added*"
      ]
    },
    {
      "cell_type": "code",
      "metadata": {
        "id": "NUgXZc_ey0C9",
        "colab_type": "code",
        "colab": {}
      },
      "source": [
        "\n",
        "def conv2d(x, W, b, strides=1, normalize=False, train_phase=False, scope_bn=None):\n",
        "    x = tf.nn.conv2d(x, W, strides=[1,1,1,1], padding='SAME')\n",
        "    x = tf.nn.bias_add(x, b)\n",
        "    #if batch_norm:\n",
        "    #  x=batch_normalization(x)\n",
        "    if normalize:\n",
        "      x=batch_noramlization(x, train_phase, scope_bn)\n",
        "    return tf.nn.relu(x)\n",
        "\n",
        "def conv_forward_prop(data, weight, biase, training=False):\n",
        "    # Convolution layers\n",
        "    conv1 = conv2d(data, weights['c1'], biases['c1'], normalize=True, train_phase=training, scope_bn='bn1') # [28,28,16]\n",
        "    conv2 = conv2d(conv1, weights['c2'], biases['c2'], normalize=True, train_phase=training, scope_bn='bn2') # [28,28,16]\n",
        "    pool1 = tf.nn.max_pool(conv2, ksize=[1,2,2,1], strides=[1,2,2,1], padding='SAME') \n",
        "    # [14,14,16]\n",
        "\n",
        "    conv3 = conv2d(pool1, weights['c3'], biases['c3'], normalize=True, train_phase=training, scope_bn='bn3') # [14,14,32]\n",
        "    conv4 = conv2d(conv3, weights['c4'], biases['c4'], normalize=True, train_phase=training, scope_bn='bn4') # [14,14,32]\n",
        "    pool2 = tf.nn.max_pool(conv4, ksize=[1,2,2,1], strides=[1,2,2,1], padding='SAME') \n",
        "    # [7,7,32]\n",
        "\n",
        "    # Flatten\n",
        "    flat = tf.reshape(pool2, [-1, weights['d1'].get_shape().as_list()[0]]) \n",
        "    # [7*7*32] = [1568]\n",
        "\n",
        "    # Fully connected layer\n",
        "    fc1 = tf.add(tf.matmul(flat, weights['d1']), biases['d1']) # [128]\n",
        "    fc1 = tf.nn.relu(fc1) # [128]\n",
        "\n",
        "    # Dropout\n",
        "    if training:\n",
        "        fc1 = tf.nn.dropout(fc1, rate=0.2)\n",
        "\n",
        "    # Output\n",
        "    out = tf.add(tf.matmul(fc1, weights['out']), biases['out']) # [10]\n",
        "    return out"
      ],
      "execution_count": 5,
      "outputs": []
    },
    {
      "cell_type": "markdown",
      "metadata": {
        "id": "onb_LQOrzLxz",
        "colab_type": "text"
      },
      "source": [
        "****Cost function***"
      ]
    },
    {
      "cell_type": "code",
      "metadata": {
        "id": "4gi21-Gky9fG",
        "colab_type": "code",
        "colab": {}
      },
      "source": [
        "def compute_cost(Z3, Y):\n",
        "  cost = tf.reduce_mean(tf.nn.softmax_cross_entropy_with_logits_v2(logits=Z3, labels=Y))\n",
        "  return cost"
      ],
      "execution_count": 6,
      "outputs": []
    },
    {
      "cell_type": "markdown",
      "metadata": {
        "id": "My3ibq0g1xff",
        "colab_type": "text"
      },
      "source": [
        "****Placeholder for input(X)/output(Y)***"
      ]
    },
    {
      "cell_type": "code",
      "metadata": {
        "id": "DBYYvnB5zA2F",
        "colab_type": "code",
        "colab": {}
      },
      "source": [
        "def create_placeholders(n_H0, n_W0, n_C0, n_y):\n",
        "    X = tf.placeholder(tf.float32, shape=[None, n_H0, n_W0, n_C0])\n",
        "    Y = tf.placeholder(tf.float32, shape=[None, n_y])\n",
        "\n",
        "    return X, Y"
      ],
      "execution_count": 7,
      "outputs": []
    },
    {
      "cell_type": "markdown",
      "metadata": {
        "id": "Y2o3Edkm19Hl",
        "colab_type": "text"
      },
      "source": [
        "****Mini batch of shuffled data***"
      ]
    },
    {
      "cell_type": "code",
      "metadata": {
        "id": "v4GgAYnezE5N",
        "colab_type": "code",
        "colab": {}
      },
      "source": [
        "\n",
        "def random_mini_batches(X, Y, mini_batch_size = 64, seed = 0):\n",
        "    \n",
        "    m = X.shape[0]                  # number of training examples\n",
        "    mini_batches = []\n",
        "    np.random.seed(seed)\n",
        "    \n",
        "    # Step 1: Shuffle (X, Y)\n",
        "    permutation = list(np.random.permutation(m))\n",
        "    shuffled_X = X[permutation,:,:,:]\n",
        "    shuffled_Y = Y[permutation,:]\n",
        "\n",
        "    # Step 2: Partition (shuffled_X, shuffled_Y). Minus the end case.\n",
        "    num_complete_minibatches = math.floor(m/mini_batch_size) # number of mini batches of size mini_batch_size in your partitionning\n",
        "    for k in range(0, num_complete_minibatches):\n",
        "        mini_batch_X = shuffled_X[k * mini_batch_size : k * mini_batch_size + mini_batch_size,:,:,:]\n",
        "        mini_batch_Y = shuffled_Y[k * mini_batch_size : k * mini_batch_size + mini_batch_size,:]\n",
        "        mini_batch = (mini_batch_X, mini_batch_Y)\n",
        "        mini_batches.append(mini_batch)\n",
        "    \n",
        "    # Handling the end case (last mini-batch < mini_batch_size)\n",
        "    \n",
        "    if m % mini_batch_size != 0:\n",
        "        mini_batch_X = shuffled_X[num_complete_minibatches * mini_batch_size : m,:,:,:]\n",
        "        mini_batch_Y = shuffled_Y[num_complete_minibatches * mini_batch_size : m,:]\n",
        "        mini_batch = (mini_batch_X, mini_batch_Y)\n",
        "        mini_batches.append(mini_batch)\n",
        "    \n",
        "    return mini_batches"
      ],
      "execution_count": 8,
      "outputs": []
    },
    {
      "cell_type": "markdown",
      "metadata": {
        "id": "PCV_MdEX2O3R",
        "colab_type": "text"
      },
      "source": [
        "****Final model:***\n",
        "\n",
        "**Create placeholder for data feeding/output*\n",
        "\n",
        "**Foraward pass*\n",
        "\n",
        "**Cost calculation*\n",
        "\n",
        "**Adam Optimizer on cost*"
      ]
    },
    {
      "cell_type": "code",
      "metadata": {
        "id": "zBs3MqEAhthH",
        "colab_type": "code",
        "colab": {}
      },
      "source": [
        "def model(X_train, Y_train, X_test, Y_test, \n",
        "          learning_rate = 0.009,\n",
        "          num_epochs = 50, minibatch_size = 64,\n",
        "          print_cost = True, training=False):\n",
        "\n",
        "    (m, n_H0, n_W0, n_C0) = X_train.shape\n",
        "    n_y = Y_train.shape[1]\n",
        "\n",
        "    X, Y = create_placeholders(n_H0, n_W0, n_C0, n_y)\n",
        "  \n",
        "    Z3 = conv_forward_prop(X, weights, biases, training=training)\n",
        "    #with tf.GradientTape() as tape:\n",
        "    cost = tf.reduce_mean(tf.nn.softmax_cross_entropy_with_logits_v2(logits=Z3, labels=Y))\n",
        "\n",
        "    #cost = compute_cost(Z3, Y)\n",
        "\t  \n",
        "    optimizer = tf.train.AdamOptimizer(learning_rate=learning_rate).minimize(cost)\n",
        "    costs=[]\n",
        "    with tf.Session() as sess:\n",
        "      #writer=tf.summary.FileWriter(\"./log\", sess.graph)\n",
        "      sess.run(tf.global_variables_initializer())\n",
        "      sess.run(tf.local_variables_initializer())\n",
        "      \n",
        "      for epoch in range(num_epochs):\n",
        "              \n",
        "              minibatch_cost = 0.\n",
        "              \n",
        "              num_minibatches = int(m / minibatch_size) # number of minibatches of size minibatch_size in the train set\n",
        "              \n",
        "              minibatches = random_mini_batches(X_train, Y_train, mini_batch_size=minibatch_size)\n",
        "\n",
        "              for minibatch in minibatches:\n",
        "                \n",
        "                (minibatch_X, minibatch_Y) = minibatch\n",
        "\n",
        "                _ , temp_cost = sess.run([optimizer, cost], feed_dict={X:minibatch_X, Y:minibatch_Y})\n",
        "                \n",
        "\n",
        "                minibatch_cost += temp_cost / num_minibatches\n",
        "\n",
        "              # Print the cost every epoch\n",
        "              if print_cost == True and epoch % 5 == 0:\n",
        "                  print (\"Cost after epoch %i: %f\" % (epoch, minibatch_cost))\n",
        "              if print_cost == True and epoch % 1 == 0:\n",
        "                  costs.append(minibatch_cost)\n",
        "      #writer.close()\n",
        "\n",
        "      plt.plot(np.squeeze(costs))\n",
        "      plt.ylabel('cost')\n",
        "      plt.xlabel('iterations (per tens)')\n",
        "      plt.title(\"Learning rate =\" + str(learning_rate))\n",
        "      plt.show()\n",
        "      predict_op = tf.argmax(Z3, 1)\n",
        "      correct_prediction = tf.equal(predict_op, tf.argmax(Y, 1))\n",
        "\n",
        "      accuracy = tf.reduce_mean(tf.cast(correct_prediction, \"float\"))\n",
        "      print(\"accuracy\", accuracy)\n",
        "      train_accuracy = accuracy.eval({X: X_train, Y: Y_train})\n",
        "      test_accuracy = accuracy.eval({X: X_test, Y: Y_test})\n",
        "      print(\"Train Accuracy:\", train_accuracy)\n",
        "      print(\"Test Accuracy:\", test_accuracy)\n",
        "      \n",
        "      predictions = sess.run(tf.argmax(conv_forward_prop(X_test[:25,:,:,:], weights, biases), axis=1))\n",
        "      f, axarr = plt.subplots(2, 5, figsize=(15,5))\n",
        "      for idx in range(10):\n",
        "          axarr[int(idx/5), idx%5].imshow(np.squeeze(X_test[idx]), cmap='gray')\n",
        "          axarr[int(idx/5), idx%5].set_title(str(predictions[idx]),fontsize=20)\n",
        "      if training:\n",
        "          saver = tf.train.Saver() \n",
        "          saver.save(sess, 'my_test_model.ckpt')"
      ],
      "execution_count": 9,
      "outputs": []
    },
    {
      "cell_type": "code",
      "metadata": {
        "id": "-kmtLFtAinRM",
        "colab_type": "code",
        "colab": {
          "base_uri": "https://localhost:8080/",
          "height": 855
        },
        "outputId": "70055b27-5de4-4d51-b8e1-0e5b8f122954"
      },
      "source": [
        "model(x_train[:,:,:,:], y_train[:,:], x_test[:,:,:,:], y_test[:,:], training=True)"
      ],
      "execution_count": 10,
      "outputs": [
        {
          "output_type": "stream",
          "text": [
            "Cost after epoch 0: 0.602881\n",
            "Cost after epoch 5: 0.072185\n",
            "Cost after epoch 10: 0.041337\n",
            "Cost after epoch 15: 0.032591\n",
            "Cost after epoch 20: 0.028220\n",
            "Cost after epoch 25: 0.024652\n",
            "Cost after epoch 30: 0.026933\n",
            "Cost after epoch 35: 0.022816\n",
            "Cost after epoch 40: 0.020905\n",
            "Cost after epoch 45: 0.024450\n"
          ],
          "name": "stdout"
        },
        {
          "output_type": "display_data",
          "data": {
            "image/png": "[encoded data removed]",
            "text/plain": [
              "<Figure size 432x288 with 1 Axes>"
            ]
          },
          "metadata": {
            "tags": [],
            "needs_background": "light"
          }
        },
        {
          "output_type": "stream",
          "text": [
            "accuracy Tensor(\"Mean_1:0\", shape=(), dtype=float32)\n",
            "Train Accuracy: 0.99525\n",
            "Test Accuracy: 0.9894\n"
          ],
          "name": "stdout"
        },
        {
          "output_type": "display_data",
          "data": {
            "image/png": "[encoded data removed]",
            "text/plain": [
              "<Figure size 1080x360 with 10 Axes>"
            ]
          },
          "metadata": {
            "tags": [],
            "needs_background": "light"
          }
        }
      ]
    },
    {
      "cell_type": "code",
      "metadata": {
        "id": "mdvvG04JiyNo",
        "colab_type": "code",
        "colab": {
          "base_uri": "https://localhost:8080/",
          "height": 331
        },
        "outputId": "b1fa9855-54e9-45d6-dabc-fc320f03095f"
      },
      "source": [
        "#testing\n",
        "sess = tf.Session()\n",
        "saver = tf.train.Saver()\n",
        "saver.restore(sess, tf.train.latest_checkpoint('./'))\n",
        "\n",
        "predictions = sess.run(tf.argmax(conv_forward_prop(x_test[:,:,:,:], weights, biases), axis=1))\n",
        "#predictions = np.argmax(np.squeeze(onehot_predictions), axis=1)\n",
        "idx = 35\n",
        "f, axarr = plt.subplots(2, 5, figsize=(10,5))\n",
        "for i in range(2):\n",
        "    for j in range(5):\n",
        "        axarr[i,j].imshow(np.squeeze(x_test[idx]), cmap='gray')\n",
        "        axarr[i,j].set_title(str(predictions[idx]),fontsize=20)\n",
        "        idx += 23"
      ],
      "execution_count": 11,
      "outputs": [
        {
          "output_type": "stream",
          "text": [
            "INFO:tensorflow:Restoring parameters from ./my_test_model.ckpt\n"
          ],
          "name": "stdout"
        },
        {
          "output_type": "display_data",
          "data": {
            "image/png": "[encoded data removed]",
            "text/plain": [
              "<Figure size 720x360 with 10 Axes>"
            ]
          },
          "metadata": {
            "tags": [],
            "needs_background": "light"
          }
        }
      ]
    },
    {
      "cell_type": "code",
      "metadata": {
        "id": "FYQNf8kDjufk",
        "colab_type": "code",
        "colab": {}
      },
      "source": [
        ""
      ],
      "execution_count": null,
      "outputs": []
    }
  ]
}